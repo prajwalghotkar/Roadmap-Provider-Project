{
 "cells": [
  {
   "cell_type": "markdown",
   "id": "d828ae9b-6f79-42c9-a196-93824a74e247",
   "metadata": {},
   "source": [
    "# Roadmap Provider Project"
   ]
  },
  {
   "cell_type": "code",
   "execution_count": 2,
   "id": "3af62e64-bb5a-4e13-9d73-94a7c6e359f3",
   "metadata": {},
   "outputs": [
    {
     "name": "stdin",
     "output_type": "stream",
     "text": [
      "Enter 1 for fresher, 2 for experienced =  1\n",
      "Enter 1/Web-Dev 2/App-Dev 3/Data Science,AI,ML =  3\n"
     ]
    },
    {
     "name": "stdout",
     "output_type": "stream",
     "text": [
      "Data Science,AI,ML - Learn Python,Math,Framework\n"
     ]
    }
   ],
   "source": [
    "user=input('Enter 1 for fresher, 2 for experienced = ')\n",
    "if user == '1':\n",
    "    interest=input('Enter 1/Web-Dev 2/App-Dev 3/Data Science,AI,ML = ')\n",
    "    if interest == '1':\n",
    "        print('Web-Dev - Learn HTML/CSS/JS/DJANGO/FLASK/PHP/')\n",
    "    elif interest == '2':\n",
    "        print('App-Dev - Learn JAVA/KOTLIN/SWIFT')\n",
    "    elif interest == '3':\n",
    "        print('Data Science,AI,ML - Learn Python,Math,Framework')\n",
    "    else:\n",
    "        print('Out of range')\n",
    "\n",
    "elif user == '2':\n",
    "    interest=input('Enter 1/Data Analytics 2/Cloud Computing 3/Front-End = ')\n",
    "    if interest == '1':\n",
    "        print('Data Analytics - Learn Python/Excel/R/SQL/Tableau/Power BI')\n",
    "    elif interest == '2':\n",
    "        print('Cloud Computing - Learn DevOps/Scripting/Cloud architecture design/Cloud security/Cloud automation/Cost optimization/Troubleshooting/')\n",
    "    elif interest == '3':\n",
    "        print('Front End - Learn Python/Working of Internet/HTML/CSS/JavaScript/Mobile Frontend Frameworks/Version Control System/VCS Hosting')\n",
    "    else:\n",
    "        print('Out of range')\n",
    "else:\n",
    "    print('Not in range')"
   ]
  },
  {
   "cell_type": "markdown",
   "id": "8914f9d2-fb91-415a-b218-fca583c4db98",
   "metadata": {},
   "source": [
    "###### Logic With Prajwal 🧐"
   ]
  }
 ],
 "metadata": {
  "kernelspec": {
   "display_name": "Python 3 (ipykernel)",
   "language": "python",
   "name": "python3"
  },
  "language_info": {
   "codemirror_mode": {
    "name": "ipython",
    "version": 3
   },
   "file_extension": ".py",
   "mimetype": "text/x-python",
   "name": "python",
   "nbconvert_exporter": "python",
   "pygments_lexer": "ipython3",
   "version": "3.12.7"
  }
 },
 "nbformat": 4,
 "nbformat_minor": 5
}
